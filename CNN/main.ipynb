{
 "cells": [
  {
   "cell_type": "code",
   "execution_count": 1,
   "metadata": {},
   "outputs": [],
   "source": [
    "# Dependencies\n",
    "import tensorflow as tf\n",
    "from tensorflow import keras\n",
    "import tensorflowjs as tfjs"
   ]
  },
  {
   "cell_type": "code",
   "execution_count": 2,
   "metadata": {},
   "outputs": [],
   "source": [
    "# Loading Data\n",
    "(xtrain, ytrain), (xtest, ytest) = keras.datasets.mnist.load_data()\n",
    "\n",
    "# Data Modelling\n",
    "xtrain = xtrain.reshape([-1, 28, 28, 1])\n",
    "xtest = xtest.reshape([-1, 28, 28, 1])\n",
    "\n",
    "# Data Normalization\n",
    "xtrain = xtrain / 255.0\n",
    "xtest = xtest / 255.0\n",
    "\n",
    "# NN Categorization\n",
    "ytrain = keras.utils.to_categorical(ytrain)\n",
    "ytest = keras.utils.to_categorical(ytest)"
   ]
  },
  {
   "cell_type": "code",
   "execution_count": 3,
   "metadata": {},
   "outputs": [],
   "source": [
    "# Convolution Neural Network\n",
    "model = keras.Sequential()\n",
    "\n",
    "# Layer 1: Conv 2D\n",
    "model.add(keras.layers.Conv2D(\n",
    "    32, (5, 5), padding='same', input_shape=[28, 28, 1]))\n",
    "\n",
    "# Layer 2: Max Pool 2D\n",
    "model.add(keras.layers.MaxPool2D(2, 2))\n",
    "\n",
    "# Layer 3: Conv 2D\n",
    "model.add(keras.layers.Conv2D(64, (5, 5), padding='same'))\n",
    "\n",
    "# Layer 3: Max Pool\n",
    "model.add(keras.layers.MaxPool2D((2, 2)))\n",
    "\n",
    "# Layer 3: Flatten for Nodes\n",
    "model.add(keras.layers.Flatten())\n",
    "\n",
    "# Layer 3: Dense Layers\n",
    "model.add(keras.layers.Dense(1024, activation='relu'))\n",
    "\n",
    "# Layer 3: Dropout\n",
    "model.add(keras.layers.Dropout(0.2))\n",
    "\n",
    "# Layer 3: Output Layer\n",
    "model.add(keras.layers.Dense(10, activation='softmax'))\n",
    "\n",
    "# Compilation\n",
    "model.compile(optimizer='adam', loss='categorical_crossentropy',\n",
    "              metrics=['accuracy'])"
   ]
  },
  {
   "cell_type": "code",
   "execution_count": 4,
   "metadata": {},
   "outputs": [
    {
     "name": "stdout",
     "output_type": "stream",
     "text": [
      "Epoch 1/10\n",
      "1875/1875 [==============================] - 161s 85ms/step - loss: 0.1152 - accuracy: 0.9657 - val_loss: 0.0813 - val_accuracy: 0.9757\n",
      "Epoch 2/10\n",
      "1875/1875 [==============================] - 160s 85ms/step - loss: 0.0551 - accuracy: 0.9840 - val_loss: 0.0454 - val_accuracy: 0.9864\n",
      "Epoch 3/10\n",
      "1875/1875 [==============================] - 158s 84ms/step - loss: 0.0474 - accuracy: 0.9865 - val_loss: 0.0428 - val_accuracy: 0.9873\n",
      "Epoch 4/10\n",
      "1875/1875 [==============================] - 157s 84ms/step - loss: 0.0363 - accuracy: 0.9897 - val_loss: 0.0457 - val_accuracy: 0.9888\n",
      "Epoch 5/10\n",
      "1875/1875 [==============================] - 156s 83ms/step - loss: 0.0360 - accuracy: 0.9906 - val_loss: 0.0672 - val_accuracy: 0.9870\n",
      "Epoch 6/10\n",
      "1875/1875 [==============================] - 156s 83ms/step - loss: 0.0357 - accuracy: 0.9912 - val_loss: 0.0740 - val_accuracy: 0.9861\n",
      "Epoch 7/10\n",
      "1875/1875 [==============================] - 156s 83ms/step - loss: 0.0287 - accuracy: 0.9928 - val_loss: 0.0648 - val_accuracy: 0.9883\n",
      "Epoch 8/10\n",
      "1875/1875 [==============================] - 156s 83ms/step - loss: 0.0434 - accuracy: 0.9917 - val_loss: 0.1172 - val_accuracy: 0.9862\n",
      "Epoch 9/10\n",
      "1875/1875 [==============================] - 154s 82ms/step - loss: 0.0286 - accuracy: 0.9940 - val_loss: 0.1106 - val_accuracy: 0.9848\n",
      "Epoch 10/10\n",
      "1875/1875 [==============================] - 151s 81ms/step - loss: 0.0348 - accuracy: 0.9938 - val_loss: 0.1119 - val_accuracy: 0.9862\n"
     ]
    },
    {
     "name": "stderr",
     "output_type": "stream",
     "text": [
      "WARNING:absl:Found untraced functions such as _jit_compiled_convolution_op, _jit_compiled_convolution_op while saving (showing 2 of 2). These functions will not be directly callable after loading.\n"
     ]
    },
    {
     "name": "stdout",
     "output_type": "stream",
     "text": [
      "INFO:tensorflow:Assets written to: ../models/tf-model\\assets\n"
     ]
    },
    {
     "name": "stderr",
     "output_type": "stream",
     "text": [
      "INFO:tensorflow:Assets written to: ../models/tf-model\\assets\n"
     ]
    }
   ],
   "source": [
    "# Training the Model\n",
    "model.fit(xtrain, ytrain, validation_data=(\n",
    "    xtest, ytest), epochs=10)"
   ]
  },
  {
   "cell_type": "code",
   "execution_count": 6,
   "metadata": {},
   "outputs": [
    {
     "name": "stderr",
     "output_type": "stream",
     "text": [
      "WARNING:absl:Found untraced functions such as _jit_compiled_convolution_op, _jit_compiled_convolution_op while saving (showing 2 of 2). These functions will not be directly callable after loading.\n"
     ]
    },
    {
     "name": "stdout",
     "output_type": "stream",
     "text": [
      "INFO:tensorflow:Assets written to: ../models/tf-model\\assets\n"
     ]
    },
    {
     "name": "stderr",
     "output_type": "stream",
     "text": [
      "INFO:tensorflow:Assets written to: ../models/tf-model\\assets\n"
     ]
    }
   ],
   "source": [
    "model.save('../models/tf-model')\n",
    "tfjs.converters.save_keras_model(model, '../models/tfjs-model')"
   ]
  },
  {
   "cell_type": "code",
   "execution_count": 7,
   "metadata": {},
   "outputs": [
    {
     "name": "stdout",
     "output_type": "stream",
     "text": [
      "313/313 [==============================] - 6s 20ms/step - loss: 0.1119 - accuracy: 0.9862\n",
      "Test Accuracy: 0.9861999750137329\n",
      "Test Loss: 0.11191336810588837\n"
     ]
    }
   ],
   "source": [
    "# Model Evaluation\n",
    "test_loss, test_acc = model.evaluate(xtest, ytest)\n",
    "\n",
    "print('Test Accuracy:', test_acc)\n",
    "print('Test Loss:', test_loss)"
   ]
  }
 ],
 "metadata": {
  "kernelspec": {
   "display_name": "Python 3.10.2 64-bit",
   "language": "python",
   "name": "python3"
  },
  "language_info": {
   "codemirror_mode": {
    "name": "ipython",
    "version": 3
   },
   "file_extension": ".py",
   "mimetype": "text/x-python",
   "name": "python",
   "nbconvert_exporter": "python",
   "pygments_lexer": "ipython3",
   "version": "3.10.2"
  },
  "orig_nbformat": 4,
  "vscode": {
   "interpreter": {
    "hash": "369f2c481f4da34e4445cda3fffd2e751bd1c4d706f27375911949ba6bb62e1c"
   }
  }
 },
 "nbformat": 4,
 "nbformat_minor": 2
}
